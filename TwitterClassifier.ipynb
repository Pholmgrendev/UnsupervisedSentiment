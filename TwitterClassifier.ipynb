{
 "cells": [
  {
   "cell_type": "markdown",
   "id": "0c7d4ebb",
   "metadata": {
    "papermill": {
     "duration": 0.005837,
     "end_time": "2024-12-02T01:47:18.045332",
     "exception": false,
     "start_time": "2024-12-02T01:47:18.039495",
     "status": "completed"
    },
    "tags": []
   },
   "source": [
    "# Introduction"
   ]
  },
  {
   "cell_type": "code",
   "execution_count": 1,
   "id": "e638b77b",
   "metadata": {
    "_cell_guid": "b1076dfc-b9ad-4769-8c92-a6c4dae69d19",
    "_uuid": "8f2839f25d086af736a60e9eeb907d3b93b6e0e5",
    "execution": {
     "iopub.execute_input": "2024-12-02T01:47:18.057500Z",
     "iopub.status.busy": "2024-12-02T01:47:18.057104Z",
     "iopub.status.idle": "2024-12-02T01:47:22.527786Z",
     "shell.execute_reply": "2024-12-02T01:47:22.526484Z"
    },
    "papermill": {
     "duration": 4.479557,
     "end_time": "2024-12-02T01:47:22.530181",
     "exception": false,
     "start_time": "2024-12-02T01:47:18.050624",
     "status": "completed"
    },
    "tags": []
   },
   "outputs": [
    {
     "name": "stdout",
     "output_type": "stream",
     "text": [
      "/kaggle/input/twitter-emotion-classification-dataset/train-00000-of-00001.parquet\n",
      "[nltk_data] Downloading package wordnet to /kaggle/working/...\n",
      "Archive:  /kaggle/working/corpora/wordnet.zip\n",
      "   creating: /kaggle/working/corpora/wordnet/\n",
      "  inflating: /kaggle/working/corpora/wordnet/lexnames  \n",
      "  inflating: /kaggle/working/corpora/wordnet/data.verb  \n",
      "  inflating: /kaggle/working/corpora/wordnet/index.adv  \n",
      "  inflating: /kaggle/working/corpora/wordnet/adv.exc  \n",
      "  inflating: /kaggle/working/corpora/wordnet/index.verb  \n",
      "  inflating: /kaggle/working/corpora/wordnet/cntlist.rev  \n",
      "  inflating: /kaggle/working/corpora/wordnet/data.adj  \n",
      "  inflating: /kaggle/working/corpora/wordnet/index.adj  \n",
      "  inflating: /kaggle/working/corpora/wordnet/LICENSE  \n",
      "  inflating: /kaggle/working/corpora/wordnet/citation.bib  \n",
      "  inflating: /kaggle/working/corpora/wordnet/noun.exc  \n",
      "  inflating: /kaggle/working/corpora/wordnet/verb.exc  \n",
      "  inflating: /kaggle/working/corpora/wordnet/README  \n",
      "  inflating: /kaggle/working/corpora/wordnet/index.sense  \n",
      "  inflating: /kaggle/working/corpora/wordnet/data.noun  \n",
      "  inflating: /kaggle/working/corpora/wordnet/data.adv  \n",
      "  inflating: /kaggle/working/corpora/wordnet/index.noun  \n",
      "  inflating: /kaggle/working/corpora/wordnet/adj.exc  \n"
     ]
    }
   ],
   "source": [
    "# This Python 3 environment comes with many helpful analytics libraries installed\n",
    "# It is defined by the kaggle/python Docker image: https://github.com/kaggle/docker-python\n",
    "# For example, here's several helpful packages to load\n",
    "import warnings\n",
    "warnings.simplefilter(action='ignore', category=FutureWarning)\n",
    "warnings.simplefilter(action='ignore', category=UserWarning)\n",
    "\n",
    "import re\n",
    "import subprocess\n",
    "from collections import Counter\n",
    "\n",
    "import numpy as np # linear algebra\n",
    "import pandas as pd # data processing, CSV file I/O (e.g. pd.read_csv)\n",
    "import seaborn as sns\n",
    "import matplotlib.pyplot as plt\n",
    "import nltk.corpus\n",
    "from sklearn.model_selection import train_test_split\n",
    "from nltk.corpus import stopwords\n",
    "from nltk.tokenize.casual import TweetTokenizer\n",
    "from nltk.stem import WordNetLemmatizer\n",
    "\n",
    "# Input data files are available in the read-only \"../input/\" directory\n",
    "# For example, running this (by clicking run or pressing Shift+Enter) will list all files under the input directory\n",
    "\n",
    "import os\n",
    "for dirname, _, filenames in os.walk('/kaggle/input'):\n",
    "    for filename in filenames:\n",
    "        print(os.path.join(dirname, filename))\n",
    "\n",
    "try: \n",
    "    nltk.data.find('wordnet.zip')\n",
    "except:\n",
    "    nltk.download('wordnet', download_dir='/kaggle/working/')\n",
    "    command = \"unzip /kaggle/working/corpora/wordnet.zip -d /kaggle/working/corpora\"\n",
    "    subprocess.run(command.split())\n",
    "    nltk.data.path.append('/kaggle/working/')\n",
    "\n",
    "# You can write up to 20GB to the current directory (/kaggle/working/) that gets preserved as output when you create a version using \"Save & Run All\" \n",
    "# You can also write temporary files to /kaggle/temp/, but they won't be saved outside of the current session"
   ]
  },
  {
   "cell_type": "code",
   "execution_count": 2,
   "id": "97598999",
   "metadata": {
    "execution": {
     "iopub.execute_input": "2024-12-02T01:47:22.543019Z",
     "iopub.status.busy": "2024-12-02T01:47:22.542446Z",
     "iopub.status.idle": "2024-12-02T01:47:23.483853Z",
     "shell.execute_reply": "2024-12-02T01:47:23.482659Z"
    },
    "papermill": {
     "duration": 0.950699,
     "end_time": "2024-12-02T01:47:23.486385",
     "exception": false,
     "start_time": "2024-12-02T01:47:22.535686",
     "status": "completed"
    },
    "tags": []
   },
   "outputs": [],
   "source": [
    "file_name = '/kaggle/input/twitter-emotion-classification-dataset/train-00000-of-00001.parquet'\n",
    "\n",
    "full_data = pd.read_parquet(file_name)"
   ]
  },
  {
   "cell_type": "code",
   "execution_count": 3,
   "id": "f9d19323",
   "metadata": {
    "execution": {
     "iopub.execute_input": "2024-12-02T01:47:23.499873Z",
     "iopub.status.busy": "2024-12-02T01:47:23.499448Z",
     "iopub.status.idle": "2024-12-02T01:47:23.519545Z",
     "shell.execute_reply": "2024-12-02T01:47:23.518238Z"
    },
    "papermill": {
     "duration": 0.02966,
     "end_time": "2024-12-02T01:47:23.521937",
     "exception": false,
     "start_time": "2024-12-02T01:47:23.492277",
     "status": "completed"
    },
    "tags": []
   },
   "outputs": [
    {
     "data": {
      "text/html": [
       "<div>\n",
       "<style scoped>\n",
       "    .dataframe tbody tr th:only-of-type {\n",
       "        vertical-align: middle;\n",
       "    }\n",
       "\n",
       "    .dataframe tbody tr th {\n",
       "        vertical-align: top;\n",
       "    }\n",
       "\n",
       "    .dataframe thead th {\n",
       "        text-align: right;\n",
       "    }\n",
       "</style>\n",
       "<table border=\"1\" class=\"dataframe\">\n",
       "  <thead>\n",
       "    <tr style=\"text-align: right;\">\n",
       "      <th></th>\n",
       "      <th>text</th>\n",
       "      <th>label</th>\n",
       "    </tr>\n",
       "  </thead>\n",
       "  <tbody>\n",
       "    <tr>\n",
       "      <th>0</th>\n",
       "      <td>i feel awful about it too because it s my job ...</td>\n",
       "      <td>0</td>\n",
       "    </tr>\n",
       "    <tr>\n",
       "      <th>1</th>\n",
       "      <td>im alone i feel awful</td>\n",
       "      <td>0</td>\n",
       "    </tr>\n",
       "    <tr>\n",
       "      <th>2</th>\n",
       "      <td>ive probably mentioned this before but i reall...</td>\n",
       "      <td>1</td>\n",
       "    </tr>\n",
       "    <tr>\n",
       "      <th>3</th>\n",
       "      <td>i was feeling a little low few days back</td>\n",
       "      <td>0</td>\n",
       "    </tr>\n",
       "    <tr>\n",
       "      <th>4</th>\n",
       "      <td>i beleive that i am much more sensitive to oth...</td>\n",
       "      <td>2</td>\n",
       "    </tr>\n",
       "  </tbody>\n",
       "</table>\n",
       "</div>"
      ],
      "text/plain": [
       "                                                text  label\n",
       "0  i feel awful about it too because it s my job ...      0\n",
       "1                              im alone i feel awful      0\n",
       "2  ive probably mentioned this before but i reall...      1\n",
       "3           i was feeling a little low few days back      0\n",
       "4  i beleive that i am much more sensitive to oth...      2"
      ]
     },
     "execution_count": 3,
     "metadata": {},
     "output_type": "execute_result"
    }
   ],
   "source": [
    "full_data.head()"
   ]
  },
  {
   "cell_type": "code",
   "execution_count": 4,
   "id": "0eab45e3",
   "metadata": {
    "execution": {
     "iopub.execute_input": "2024-12-02T01:47:23.552697Z",
     "iopub.status.busy": "2024-12-02T01:47:23.552117Z",
     "iopub.status.idle": "2024-12-02T01:47:23.618298Z",
     "shell.execute_reply": "2024-12-02T01:47:23.617101Z"
    },
    "papermill": {
     "duration": 0.092124,
     "end_time": "2024-12-02T01:47:23.620726",
     "exception": false,
     "start_time": "2024-12-02T01:47:23.528602",
     "status": "completed"
    },
    "tags": []
   },
   "outputs": [
    {
     "name": "stdout",
     "output_type": "stream",
     "text": [
      "<class 'pandas.core.frame.DataFrame'>\n",
      "RangeIndex: 416809 entries, 0 to 416808\n",
      "Data columns (total 2 columns):\n",
      " #   Column  Non-Null Count   Dtype \n",
      "---  ------  --------------   ----- \n",
      " 0   text    416809 non-null  object\n",
      " 1   label   416809 non-null  int64 \n",
      "dtypes: int64(1), object(1)\n",
      "memory usage: 6.4+ MB\n"
     ]
    }
   ],
   "source": [
    "full_data.info()"
   ]
  },
  {
   "cell_type": "markdown",
   "id": "0375296f",
   "metadata": {
    "papermill": {
     "duration": 0.00527,
     "end_time": "2024-12-02T01:47:23.631701",
     "exception": false,
     "start_time": "2024-12-02T01:47:23.626431",
     "status": "completed"
    },
    "tags": []
   },
   "source": [
    "# EDA, Data Cleaning, and Visualizations"
   ]
  },
  {
   "cell_type": "markdown",
   "id": "6f3813cd",
   "metadata": {
    "papermill": {
     "duration": 0.005135,
     "end_time": "2024-12-02T01:47:23.642236",
     "exception": false,
     "start_time": "2024-12-02T01:47:23.637101",
     "status": "completed"
    },
    "tags": []
   },
   "source": [
    "#### I'll need to spend some time later this week figuring out a visualization plan for this data, how do I want to communicate information about a set as simple as some text and an emotion?"
   ]
  },
  {
   "cell_type": "code",
   "execution_count": 5,
   "id": "66d602a0",
   "metadata": {
    "execution": {
     "iopub.execute_input": "2024-12-02T01:47:23.654932Z",
     "iopub.status.busy": "2024-12-02T01:47:23.654544Z",
     "iopub.status.idle": "2024-12-02T01:47:23.676156Z",
     "shell.execute_reply": "2024-12-02T01:47:23.675008Z"
    },
    "papermill": {
     "duration": 0.030973,
     "end_time": "2024-12-02T01:47:23.678686",
     "exception": false,
     "start_time": "2024-12-02T01:47:23.647713",
     "status": "completed"
    },
    "tags": []
   },
   "outputs": [],
   "source": [
    "# Map of labels to emotions -- from dataset overview page: https://www.kaggle.com/datasets/aadyasingh55/twitter-emotion-classification-dataset/data\n",
    "topic_mapping = {\n",
    "    0:'sadness',\n",
    "    1:'joy',\n",
    "    2:'love',\n",
    "    3:'anger',\n",
    "    4:'fear',\n",
    "    5:'surprise'\n",
    "}\n",
    "full_data['emotion'] = full_data['label'].map(topic_mapping)"
   ]
  },
  {
   "cell_type": "code",
   "execution_count": 6,
   "id": "131c992c",
   "metadata": {
    "execution": {
     "iopub.execute_input": "2024-12-02T01:47:23.691952Z",
     "iopub.status.busy": "2024-12-02T01:47:23.691575Z",
     "iopub.status.idle": "2024-12-02T01:47:23.724066Z",
     "shell.execute_reply": "2024-12-02T01:47:23.722961Z"
    },
    "papermill": {
     "duration": 0.042047,
     "end_time": "2024-12-02T01:47:23.726478",
     "exception": false,
     "start_time": "2024-12-02T01:47:23.684431",
     "status": "completed"
    },
    "tags": []
   },
   "outputs": [
    {
     "data": {
      "text/html": [
       "<div>\n",
       "<style scoped>\n",
       "    .dataframe tbody tr th:only-of-type {\n",
       "        vertical-align: middle;\n",
       "    }\n",
       "\n",
       "    .dataframe tbody tr th {\n",
       "        vertical-align: top;\n",
       "    }\n",
       "\n",
       "    .dataframe thead th {\n",
       "        text-align: right;\n",
       "    }\n",
       "</style>\n",
       "<table border=\"1\" class=\"dataframe\">\n",
       "  <thead>\n",
       "    <tr style=\"text-align: right;\">\n",
       "      <th></th>\n",
       "      <th>text</th>\n",
       "      <th>emotion</th>\n",
       "    </tr>\n",
       "  </thead>\n",
       "  <tbody>\n",
       "    <tr>\n",
       "      <th>0</th>\n",
       "      <td>i feel awful about it too because it s my job ...</td>\n",
       "      <td>sadness</td>\n",
       "    </tr>\n",
       "    <tr>\n",
       "      <th>1</th>\n",
       "      <td>im alone i feel awful</td>\n",
       "      <td>sadness</td>\n",
       "    </tr>\n",
       "    <tr>\n",
       "      <th>2</th>\n",
       "      <td>ive probably mentioned this before but i reall...</td>\n",
       "      <td>joy</td>\n",
       "    </tr>\n",
       "    <tr>\n",
       "      <th>3</th>\n",
       "      <td>i was feeling a little low few days back</td>\n",
       "      <td>sadness</td>\n",
       "    </tr>\n",
       "    <tr>\n",
       "      <th>4</th>\n",
       "      <td>i beleive that i am much more sensitive to oth...</td>\n",
       "      <td>love</td>\n",
       "    </tr>\n",
       "  </tbody>\n",
       "</table>\n",
       "</div>"
      ],
      "text/plain": [
       "                                                text  emotion\n",
       "0  i feel awful about it too because it s my job ...  sadness\n",
       "1                              im alone i feel awful  sadness\n",
       "2  ive probably mentioned this before but i reall...      joy\n",
       "3           i was feeling a little low few days back  sadness\n",
       "4  i beleive that i am much more sensitive to oth...     love"
      ]
     },
     "execution_count": 6,
     "metadata": {},
     "output_type": "execute_result"
    }
   ],
   "source": [
    "full_data[['text', 'emotion']].head()"
   ]
  },
  {
   "cell_type": "code",
   "execution_count": 7,
   "id": "a0066c3a",
   "metadata": {
    "execution": {
     "iopub.execute_input": "2024-12-02T01:47:23.739992Z",
     "iopub.status.busy": "2024-12-02T01:47:23.739377Z",
     "iopub.status.idle": "2024-12-02T01:47:25.212597Z",
     "shell.execute_reply": "2024-12-02T01:47:25.211502Z"
    },
    "papermill": {
     "duration": 1.482618,
     "end_time": "2024-12-02T01:47:25.214921",
     "exception": false,
     "start_time": "2024-12-02T01:47:23.732303",
     "status": "completed"
    },
    "tags": []
   },
   "outputs": [
    {
     "data": {
      "image/png": "[encoded data removed]",
      "text/plain": [
       "<Figure size 800x500 with 1 Axes>"
      ]
     },
     "metadata": {},
     "output_type": "display_data"
    }
   ],
   "source": [
    "fig, ax = plt.subplots(figsize=(8, 5))\n",
    "sns.histplot(\n",
    "    data = full_data,\n",
    "    x = 'emotion',\n",
    "    hue = 'emotion',\n",
    "    palette = 'colorblind',\n",
    "    legend = False,\n",
    "    ).set(\n",
    "        title = 'Counts by Emotion');"
   ]
  },
  {
   "cell_type": "markdown",
   "id": "4fbd9db5",
   "metadata": {
    "papermill": {
     "duration": 0.00587,
     "end_time": "2024-12-02T01:47:25.227114",
     "exception": false,
     "start_time": "2024-12-02T01:47:25.221244",
     "status": "completed"
    },
    "tags": []
   },
   "source": [
    "#### We have some very unbalanced categories here, we'll explore some upsampling techniques during training to see how it affects performance"
   ]
  },
  {
   "cell_type": "markdown",
   "id": "abc53843",
   "metadata": {
    "papermill": {
     "duration": 0.00563,
     "end_time": "2024-12-02T01:47:25.238756",
     "exception": false,
     "start_time": "2024-12-02T01:47:25.233126",
     "status": "completed"
    },
    "tags": []
   },
   "source": [
    "## Stop words and Tokenizing"
   ]
  },
  {
   "cell_type": "markdown",
   "id": "9b1fdfcc",
   "metadata": {
    "papermill": {
     "duration": 0.0059,
     "end_time": "2024-12-02T01:47:25.250485",
     "exception": false,
     "start_time": "2024-12-02T01:47:25.244585",
     "status": "completed"
    },
    "tags": []
   },
   "source": [
    "#### The text in the dataset has already undergone some cleaning, but we'll still do some extra cleaning: removing stop words and tokenizing the text"
   ]
  },
  {
   "cell_type": "code",
   "execution_count": 8,
   "id": "c804efa5",
   "metadata": {
    "execution": {
     "iopub.execute_input": "2024-12-02T01:47:25.264103Z",
     "iopub.status.busy": "2024-12-02T01:47:25.263699Z",
     "iopub.status.idle": "2024-12-02T01:47:25.271569Z",
     "shell.execute_reply": "2024-12-02T01:47:25.270506Z"
    },
    "papermill": {
     "duration": 0.017144,
     "end_time": "2024-12-02T01:47:25.273560",
     "exception": false,
     "start_time": "2024-12-02T01:47:25.256416",
     "status": "completed"
    },
    "tags": []
   },
   "outputs": [],
   "source": [
    "def clean_text(df, text_col):\n",
    "    # remove any urls\n",
    "    df['no_url'] = df[text_col].apply(lambda row: re.sub(r'https?://\\S+|www\\.\\S+', '', row))\n",
    "    \n",
    "    # remove any punctuation\n",
    "    df['no_punct'] = df['no_url'].apply(lambda row: re.sub(r'[^\\w\\s]+', '', row))\n",
    "    \n",
    "    # get rid of numbers \n",
    "    df['no_punct_num'] = df['no_punct'].apply(lambda row: re.sub(r'[0-9]+', '', row))\n",
    "    \n",
    "    # remove any common words (this list was derived from the word frequency graphs below)\n",
    "    common_words = ['feel', 'feeling', 'like', 'im', 'time']\n",
    "    df['clean_text'] = df['no_punct_num'].apply(lambda x: ' '.join([word for word in x.split() if word not in (common_words)]))\n",
    "\n",
    "    # Drop the intermediary columns\n",
    "    df.drop(['no_url', 'no_punct', 'no_punct_num'], axis=1, inplace=True)\n",
    "    \n",
    "    return "
   ]
  },
  {
   "cell_type": "code",
   "execution_count": 9,
   "id": "67cf147b",
   "metadata": {
    "execution": {
     "iopub.execute_input": "2024-12-02T01:47:25.287555Z",
     "iopub.status.busy": "2024-12-02T01:47:25.287187Z",
     "iopub.status.idle": "2024-12-02T01:47:30.768660Z",
     "shell.execute_reply": "2024-12-02T01:47:30.767277Z"
    },
    "papermill": {
     "duration": 5.491813,
     "end_time": "2024-12-02T01:47:30.771474",
     "exception": false,
     "start_time": "2024-12-02T01:47:25.279661",
     "status": "completed"
    },
    "tags": []
   },
   "outputs": [],
   "source": [
    "clean_text(full_data, 'text')"
   ]
  },
  {
   "cell_type": "code",
   "execution_count": 10,
   "id": "1a63b88b",
   "metadata": {
    "execution": {
     "iopub.execute_input": "2024-12-02T01:47:30.785858Z",
     "iopub.status.busy": "2024-12-02T01:47:30.785084Z",
     "iopub.status.idle": "2024-12-02T01:47:30.797242Z",
     "shell.execute_reply": "2024-12-02T01:47:30.796119Z"
    },
    "papermill": {
     "duration": 0.021814,
     "end_time": "2024-12-02T01:47:30.799530",
     "exception": false,
     "start_time": "2024-12-02T01:47:30.777716",
     "status": "completed"
    },
    "tags": []
   },
   "outputs": [
    {
     "data": {
      "text/html": [
       "<div>\n",
       "<style scoped>\n",
       "    .dataframe tbody tr th:only-of-type {\n",
       "        vertical-align: middle;\n",
       "    }\n",
       "\n",
       "    .dataframe tbody tr th {\n",
       "        vertical-align: top;\n",
       "    }\n",
       "\n",
       "    .dataframe thead th {\n",
       "        text-align: right;\n",
       "    }\n",
       "</style>\n",
       "<table border=\"1\" class=\"dataframe\">\n",
       "  <thead>\n",
       "    <tr style=\"text-align: right;\">\n",
       "      <th></th>\n",
       "      <th>text</th>\n",
       "      <th>label</th>\n",
       "      <th>emotion</th>\n",
       "      <th>clean_text</th>\n",
       "    </tr>\n",
       "  </thead>\n",
       "  <tbody>\n",
       "    <tr>\n",
       "      <th>0</th>\n",
       "      <td>i feel awful about it too because it s my job ...</td>\n",
       "      <td>0</td>\n",
       "      <td>sadness</td>\n",
       "      <td>i awful about it too because it s my job to ge...</td>\n",
       "    </tr>\n",
       "    <tr>\n",
       "      <th>1</th>\n",
       "      <td>im alone i feel awful</td>\n",
       "      <td>0</td>\n",
       "      <td>sadness</td>\n",
       "      <td>alone i awful</td>\n",
       "    </tr>\n",
       "    <tr>\n",
       "      <th>2</th>\n",
       "      <td>ive probably mentioned this before but i reall...</td>\n",
       "      <td>1</td>\n",
       "      <td>joy</td>\n",
       "      <td>ive probably mentioned this before but i reall...</td>\n",
       "    </tr>\n",
       "    <tr>\n",
       "      <th>3</th>\n",
       "      <td>i was feeling a little low few days back</td>\n",
       "      <td>0</td>\n",
       "      <td>sadness</td>\n",
       "      <td>i was a little low few days back</td>\n",
       "    </tr>\n",
       "    <tr>\n",
       "      <th>4</th>\n",
       "      <td>i beleive that i am much more sensitive to oth...</td>\n",
       "      <td>2</td>\n",
       "      <td>love</td>\n",
       "      <td>i beleive that i am much more sensitive to oth...</td>\n",
       "    </tr>\n",
       "  </tbody>\n",
       "</table>\n",
       "</div>"
      ],
      "text/plain": [
       "                                                text  label  emotion  \\\n",
       "0  i feel awful about it too because it s my job ...      0  sadness   \n",
       "1                              im alone i feel awful      0  sadness   \n",
       "2  ive probably mentioned this before but i reall...      1      joy   \n",
       "3           i was feeling a little low few days back      0  sadness   \n",
       "4  i beleive that i am much more sensitive to oth...      2     love   \n",
       "\n",
       "                                          clean_text  \n",
       "0  i awful about it too because it s my job to ge...  \n",
       "1                                      alone i awful  \n",
       "2  ive probably mentioned this before but i reall...  \n",
       "3                   i was a little low few days back  \n",
       "4  i beleive that i am much more sensitive to oth...  "
      ]
     },
     "execution_count": 10,
     "metadata": {},
     "output_type": "execute_result"
    }
   ],
   "source": [
    "full_data.head()"
   ]
  },
  {
   "cell_type": "code",
   "execution_count": 11,
   "id": "9cd4f34a",
   "metadata": {
    "execution": {
     "iopub.execute_input": "2024-12-02T01:47:30.814106Z",
     "iopub.status.busy": "2024-12-02T01:47:30.813670Z",
     "iopub.status.idle": "2024-12-02T01:47:30.820291Z",
     "shell.execute_reply": "2024-12-02T01:47:30.818931Z"
    },
    "papermill": {
     "duration": 0.016606,
     "end_time": "2024-12-02T01:47:30.822573",
     "exception": false,
     "start_time": "2024-12-02T01:47:30.805967",
     "status": "completed"
    },
    "tags": []
   },
   "outputs": [],
   "source": [
    "wordnet_lemmatizer = WordNetLemmatizer()\n",
    "tokenizer = TweetTokenizer(preserve_case=False, strip_handles=True)\n",
    "\n",
    "def tokenize_lemmatize(text):\n",
    "    tokens = tokenizer.tokenize(text)\n",
    "    stop_words = stopwords.words('english')\n",
    "    tokens = [wordnet_lemmatizer.lemmatize(token) for token in tokens if token not in stop_words]\n",
    "    \n",
    "    return ' '.join(tokens)"
   ]
  },
  {
   "cell_type": "code",
   "execution_count": 12,
   "id": "8cc16d6f",
   "metadata": {
    "execution": {
     "iopub.execute_input": "2024-12-02T01:47:30.838496Z",
     "iopub.status.busy": "2024-12-02T01:47:30.838105Z",
     "iopub.status.idle": "2024-12-02T01:49:27.690754Z",
     "shell.execute_reply": "2024-12-02T01:49:27.689509Z"
    },
    "papermill": {
     "duration": 116.869835,
     "end_time": "2024-12-02T01:49:27.699091",
     "exception": false,
     "start_time": "2024-12-02T01:47:30.829256",
     "status": "completed"
    },
    "tags": []
   },
   "outputs": [
    {
     "data": {
      "text/html": [
       "<div>\n",
       "<style scoped>\n",
       "    .dataframe tbody tr th:only-of-type {\n",
       "        vertical-align: middle;\n",
       "    }\n",
       "\n",
       "    .dataframe tbody tr th {\n",
       "        vertical-align: top;\n",
       "    }\n",
       "\n",
       "    .dataframe thead th {\n",
       "        text-align: right;\n",
       "    }\n",
       "</style>\n",
       "<table border=\"1\" class=\"dataframe\">\n",
       "  <thead>\n",
       "    <tr style=\"text-align: right;\">\n",
       "      <th></th>\n",
       "      <th>text</th>\n",
       "      <th>clean_text</th>\n",
       "      <th>tokens</th>\n",
       "    </tr>\n",
       "  </thead>\n",
       "  <tbody>\n",
       "    <tr>\n",
       "      <th>0</th>\n",
       "      <td>i feel awful about it too because it s my job ...</td>\n",
       "      <td>i awful about it too because it s my job to ge...</td>\n",
       "      <td>awful job get position succeed happen</td>\n",
       "    </tr>\n",
       "    <tr>\n",
       "      <th>1</th>\n",
       "      <td>im alone i feel awful</td>\n",
       "      <td>alone i awful</td>\n",
       "      <td>alone awful</td>\n",
       "    </tr>\n",
       "    <tr>\n",
       "      <th>2</th>\n",
       "      <td>ive probably mentioned this before but i reall...</td>\n",
       "      <td>ive probably mentioned this before but i reall...</td>\n",
       "      <td>ive probably mentioned really proud actually k...</td>\n",
       "    </tr>\n",
       "    <tr>\n",
       "      <th>3</th>\n",
       "      <td>i was feeling a little low few days back</td>\n",
       "      <td>i was a little low few days back</td>\n",
       "      <td>little low day back</td>\n",
       "    </tr>\n",
       "    <tr>\n",
       "      <th>4</th>\n",
       "      <td>i beleive that i am much more sensitive to oth...</td>\n",
       "      <td>i beleive that i am much more sensitive to oth...</td>\n",
       "      <td>beleive much sensitive people feeling tend com...</td>\n",
       "    </tr>\n",
       "  </tbody>\n",
       "</table>\n",
       "</div>"
      ],
      "text/plain": [
       "                                                text  \\\n",
       "0  i feel awful about it too because it s my job ...   \n",
       "1                              im alone i feel awful   \n",
       "2  ive probably mentioned this before but i reall...   \n",
       "3           i was feeling a little low few days back   \n",
       "4  i beleive that i am much more sensitive to oth...   \n",
       "\n",
       "                                          clean_text  \\\n",
       "0  i awful about it too because it s my job to ge...   \n",
       "1                                      alone i awful   \n",
       "2  ive probably mentioned this before but i reall...   \n",
       "3                   i was a little low few days back   \n",
       "4  i beleive that i am much more sensitive to oth...   \n",
       "\n",
       "                                              tokens  \n",
       "0              awful job get position succeed happen  \n",
       "1                                        alone awful  \n",
       "2  ive probably mentioned really proud actually k...  \n",
       "3                                little low day back  \n",
       "4  beleive much sensitive people feeling tend com...  "
      ]
     },
     "execution_count": 12,
     "metadata": {},
     "output_type": "execute_result"
    }
   ],
   "source": [
    "full_data['tokens'] = full_data['clean_text'].apply(lambda x: tokenize_lemmatize(x))\n",
    "full_data[['text', 'clean_text', 'tokens']].head()"
   ]
  },
  {
   "cell_type": "markdown",
   "id": "fe19da19",
   "metadata": {
    "papermill": {
     "duration": 0.006063,
     "end_time": "2024-12-02T01:49:27.711481",
     "exception": false,
     "start_time": "2024-12-02T01:49:27.705418",
     "status": "completed"
    },
    "tags": []
   },
   "source": [
    "## Word Frequencies and Other Goodies\n",
    "\n",
    "#### we'll do some visualizations here eventually"
   ]
  },
  {
   "cell_type": "code",
   "execution_count": 13,
   "id": "db19aafb",
   "metadata": {
    "execution": {
     "iopub.execute_input": "2024-12-02T01:49:27.726440Z",
     "iopub.status.busy": "2024-12-02T01:49:27.725800Z",
     "iopub.status.idle": "2024-12-02T01:49:30.312369Z",
     "shell.execute_reply": "2024-12-02T01:49:30.311316Z"
    },
    "papermill": {
     "duration": 2.59708,
     "end_time": "2024-12-02T01:49:30.314951",
     "exception": false,
     "start_time": "2024-12-02T01:49:27.717871",
     "status": "completed"
    },
    "tags": []
   },
   "outputs": [
    {
     "data": {
      "image/png": "[encoded data removed]",
      "text/plain": [
       "<Figure size 800x400 with 1 Axes>"
      ]
     },
     "metadata": {},
     "output_type": "display_data"
    },
    {
     "data": {
      "image/png": "[encoded data removed]",
      "text/plain": [
       "<Figure size 800x400 with 1 Axes>"
      ]
     },
     "metadata": {},
     "output_type": "display_data"
    },
    {
     "data": {
      "image/png": "[encoded data removed]",
      "text/plain": [
       "<Figure size 800x400 with 1 Axes>"
      ]
     },
     "metadata": {},
     "output_type": "display_data"
    },
    {
     "data": {
      "image/png": "[encoded data removed]",
      "text/plain": [
       "<Figure size 800x400 with 1 Axes>"
      ]
     },
     "metadata": {},
     "output_type": "display_data"
    },
    {
     "data": {
      "image/png": "[encoded data removed]",
      "text/plain": [
       "<Figure size 800x400 with 1 Axes>"
      ]
     },
     "metadata": {},
     "output_type": "display_data"
    },
    {
     "data": {
      "image/png": "[encoded data removed]",
      "text/plain": [
       "<Figure size 800x400 with 1 Axes>"
      ]
     },
     "metadata": {},
     "output_type": "display_data"
    }
   ],
   "source": [
    "for label in full_data['emotion'].unique():\n",
    "\n",
    "    text = \" \".join(full_data[full_data['emotion'] == label]['tokens']).split()\n",
    "\n",
    "    most_common = Counter(text).most_common(10)\n",
    "\n",
    "    word, counts = zip(*most_common)\n",
    "\n",
    "\n",
    "\n",
    "    plt.figure(figsize=(8,4))\n",
    "\n",
    "    sns.barplot(x=list(counts), y=list(word), palette=\"Blues_d\")\n",
    "\n",
    "    plt.title(f\"Frequency of words in label {label}\")\n",
    "\n",
    "    plt.xlabel('frequency')\n",
    "\n",
    "    plt.show()"
   ]
  },
  {
   "cell_type": "markdown",
   "id": "667fee38",
   "metadata": {
    "papermill": {
     "duration": 0.008408,
     "end_time": "2024-12-02T01:49:30.332746",
     "exception": false,
     "start_time": "2024-12-02T01:49:30.324338",
     "status": "completed"
    },
    "tags": []
   },
   "source": [
    "# Modeling and Predicting"
   ]
  },
  {
   "cell_type": "markdown",
   "id": "d85b27cf",
   "metadata": {
    "papermill": {
     "duration": 0.008488,
     "end_time": "2024-12-02T01:49:30.350083",
     "exception": false,
     "start_time": "2024-12-02T01:49:30.341595",
     "status": "completed"
    },
    "tags": []
   },
   "source": [
    "#### The first thing we'll do is split into our Train/Test datasets. We have over 400,000 examples so a 75% train / 25% test split should be MORE than enough data for our needs"
   ]
  },
  {
   "cell_type": "code",
   "execution_count": 14,
   "id": "31583227",
   "metadata": {
    "execution": {
     "iopub.execute_input": "2024-12-02T01:49:30.370054Z",
     "iopub.status.busy": "2024-12-02T01:49:30.369191Z",
     "iopub.status.idle": "2024-12-02T01:49:30.569310Z",
     "shell.execute_reply": "2024-12-02T01:49:30.568378Z"
    },
    "papermill": {
     "duration": 0.212701,
     "end_time": "2024-12-02T01:49:30.571623",
     "exception": false,
     "start_time": "2024-12-02T01:49:30.358922",
     "status": "completed"
    },
    "tags": []
   },
   "outputs": [],
   "source": [
    "X_full = full_data['tokens']\n",
    "y_full = full_data['label']\n",
    "\n",
    "X_train, X_test, y_train, y_test = train_test_split(\n",
    "        X_full,\n",
    "        y_full,\n",
    "        train_size = 0.75,\n",
    "        random_state=4133,\n",
    "        stratify=y_full\n",
    "    )"
   ]
  },
  {
   "cell_type": "markdown",
   "id": "1df0c0eb",
   "metadata": {
    "papermill": {
     "duration": 0.008457,
     "end_time": "2024-12-02T01:49:30.588867",
     "exception": false,
     "start_time": "2024-12-02T01:49:30.580410",
     "status": "completed"
    },
    "tags": []
   },
   "source": [
    "## TD-IDF vs Bag-of-Words vs Word2Vec"
   ]
  },
  {
   "cell_type": "markdown",
   "id": "edf97a4a",
   "metadata": {
    "papermill": {
     "duration": 0.008489,
     "end_time": "2024-12-02T01:49:30.606307",
     "exception": false,
     "start_time": "2024-12-02T01:49:30.597818",
     "status": "completed"
    },
    "tags": []
   },
   "source": [
    "## Unsupervised Methods"
   ]
  },
  {
   "cell_type": "markdown",
   "id": "16c4af0f",
   "metadata": {
    "papermill": {
     "duration": 0.008457,
     "end_time": "2024-12-02T01:49:30.623538",
     "exception": false,
     "start_time": "2024-12-02T01:49:30.615081",
     "status": "completed"
    },
    "tags": []
   },
   "source": [
    "## Supervised Methods"
   ]
  },
  {
   "cell_type": "markdown",
   "id": "5e689094",
   "metadata": {
    "papermill": {
     "duration": 0.008401,
     "end_time": "2024-12-02T01:49:30.640687",
     "exception": false,
     "start_time": "2024-12-02T01:49:30.632286",
     "status": "completed"
    },
    "tags": []
   },
   "source": [
    "# Comparisons and Conclusions"
   ]
  },
  {
   "cell_type": "code",
   "execution_count": null,
   "id": "82f15cb1",
   "metadata": {
    "papermill": {
     "duration": 0.008427,
     "end_time": "2024-12-02T01:49:30.657804",
     "exception": false,
     "start_time": "2024-12-02T01:49:30.649377",
     "status": "completed"
    },
    "tags": []
   },
   "outputs": [],
   "source": []
  }
 ],
 "metadata": {
  "kaggle": {
   "accelerator": "none",
   "dataSources": [
    {
     "datasetId": 5921710,
     "sourceId": 9686826,
     "sourceType": "datasetVersion"
    }
   ],
   "dockerImageVersionId": 30786,
   "isGpuEnabled": false,
   "isInternetEnabled": true,
   "language": "python",
   "sourceType": "notebook"
  },
  "kernelspec": {
   "display_name": "Python 3",
   "language": "python",
   "name": "python3"
  },
  "language_info": {
   "codemirror_mode": {
    "name": "ipython",
    "version": 3
   },
   "file_extension": ".py",
   "mimetype": "text/x-python",
   "name": "python",
   "nbconvert_exporter": "python",
   "pygments_lexer": "ipython3",
   "version": "3.10.14"
  },
  "papermill": {
   "default_parameters": {},
   "duration": 136.459031,
   "end_time": "2024-12-02T01:49:31.690407",
   "environment_variables": {},
   "exception": null,
   "input_path": "__notebook__.ipynb",
   "output_path": "__notebook__.ipynb",
   "parameters": {},
   "start_time": "2024-12-02T01:47:15.231376",
   "version": "2.6.0"
  }
 },
 "nbformat": 4,
 "nbformat_minor": 5
}
